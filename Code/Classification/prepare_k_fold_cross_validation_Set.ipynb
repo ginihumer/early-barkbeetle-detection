{
 "cells": [
  {
   "cell_type": "code",
   "execution_count": 1,
   "metadata": {},
   "outputs": [],
   "source": [
    "import random\n",
    "import os, shutil\n"
   ]
  },
  {
   "cell_type": "code",
   "execution_count": 2,
   "metadata": {},
   "outputs": [],
   "source": [
    "def create_dir_if_not_exists(directory, name=''):\n",
    "    merged_name = os.path.join(directory,name)\n",
    "    if not os.path.exists(merged_name):\n",
    "        os.mkdir(merged_name)\n",
    "    return merged_name"
   ]
  },
  {
   "cell_type": "markdown",
   "metadata": {},
   "source": [
    "# k-fold for classification"
   ]
  },
  {
   "cell_type": "code",
   "execution_count": null,
   "metadata": {},
   "outputs": [],
   "source": [
    "original_dataset_dir = '/home/gini/DataScience/Borkenkaefer/images'\n",
    "\n",
    "base_dir = '/home/gini/DataScience/Borkenkaefer/data_kfold'\n",
    "\n",
    "k = 4\n",
    "# Create directories\n",
    "create_dir_if_not_exists(base_dir)"
   ]
  },
  {
   "cell_type": "code",
   "execution_count": 35,
   "metadata": {},
   "outputs": [
    {
     "name": "stdout",
     "output_type": "stream",
     "text": [
      "fold: /home/gini/DataScience/Borkenkaefer/data_kfold/0 class: mit amount: 9\n",
      "fold: /home/gini/DataScience/Borkenkaefer/data_kfold/1 class: mit amount: 9\n",
      "fold: /home/gini/DataScience/Borkenkaefer/data_kfold/2 class: mit amount: 9\n",
      "fold: /home/gini/DataScience/Borkenkaefer/data_kfold/3 class: mit amount: 10\n",
      "fold: /home/gini/DataScience/Borkenkaefer/data_kfold/0 class: ohne amount: 8\n",
      "fold: /home/gini/DataScience/Borkenkaefer/data_kfold/1 class: ohne amount: 8\n",
      "fold: /home/gini/DataScience/Borkenkaefer/data_kfold/2 class: ohne amount: 8\n",
      "fold: /home/gini/DataScience/Borkenkaefer/data_kfold/3 class: ohne amount: 8\n"
     ]
    }
   ],
   "source": [
    "#read all class directories\n",
    "classes = os.listdir(original_dataset_dir)\n",
    "\n",
    "prct = 1/k\n",
    "\n",
    "for c in classes:\n",
    "    c_dir = os.path.join(original_dataset_dir,c)\n",
    "    c_files = os.listdir(c_dir)\n",
    "    random.shuffle(c_files)\n",
    "    \n",
    "    for i in range(k):\n",
    "        fold_dir = create_dir_if_not_exists(base_dir, '%i'%i)\n",
    "        fold_c_dir = create_dir_if_not_exists(fold_dir, c)\n",
    "        \n",
    "        fold_files = c_files[i*int(prct*len(c_files)):(i+1)*int(prct*len(c_files))]\n",
    "        #last fold must take all rest (could be a +/-3 files)\n",
    "        if i >= k-1:\n",
    "            fold_files = c_files[i*int(prct*len(c_files)):]\n",
    "            \n",
    "        # copy data into fold_c_dir\n",
    "        for fname in fold_files:\n",
    "            src = os.path.join(c_dir, fname)\n",
    "            dst = os.path.join(fold_c_dir, fname)\n",
    "            shutil.copyfile(src, dst)\n",
    "            \n",
    "        print('fold:',fold_dir,'class:',c,'amount:',len(fold_files))\n",
    "        \n",
    "    "
   ]
  },
  {
   "cell_type": "code",
   "execution_count": null,
   "metadata": {},
   "outputs": [],
   "source": []
  },
  {
   "cell_type": "markdown",
   "metadata": {},
   "source": [
    "# k-fold for semantic segmentation"
   ]
  },
  {
   "cell_type": "code",
   "execution_count": 3,
   "metadata": {},
   "outputs": [],
   "source": [
    "original_dataset_dir_images = '../../Data/Masked Images/imgs + masks/image'\n",
    "original_dataset_dir_masks = '../../Data/Masked Images/imgs + masks/multi-label'\n",
    "\n",
    "base_dir = '../../Data/Masked Images/k-folds'\n",
    "\n",
    "k = 5\n"
   ]
  },
  {
   "cell_type": "code",
   "execution_count": null,
   "metadata": {},
   "outputs": [],
   "source": []
  },
  {
   "cell_type": "code",
   "execution_count": 7,
   "metadata": {},
   "outputs": [
    {
     "name": "stdout",
     "output_type": "stream",
     "text": [
      "35\n",
      "fold: ('DJI_0147.JPG', 'DJI_0009.JPG', 'DJI_0286.JPG', 'DJI_0252.JPG', 'DJI_0002.JPG', 'DJI_0241.JPG', 'DJI_0232.JPG') ('DJI_0147.JPG', 'DJI_0009 .JPG', 'DJI_0286.png', 'DJI_0252.png', 'DJI_0002.JPG', 'DJI_0241.png', 'DJI_0232.png') amount: 7\n",
      "fold: ('DJI_0100.JPG', 'DJI_0219.JPG', 'DJI_0274.JPG', 'DJI_0348.JPG', 'DJI_0011.JPG', 'DJI_0008.JPG', 'DJI_0237.JPG') ('DJI_0100.JPG', 'DJI_0219.png', 'DJI_0274.png', 'DJI_0348.png', 'DJI_0011.JPG', 'DJI_0008.JPG', 'DJI_0237.png') amount: 7\n",
      "fold: ('DJI_0105.JPG', 'DJI_0277.JPG', 'DJI_0280.JPG', 'DJI_0253.JPG', 'DJI_0227.JPG', 'DJI_0238.JPG', 'DJI_0233.JPG') ('DJI_0105.JPG', 'DJI_0277.png', 'DJI_0280.png', 'DJI_0253.png', 'DJI_0227.png', 'DJI_0238.png', 'DJI_0233.png') amount: 7\n",
      "fold: ('DJI_0221.JPG', 'DJI_0275.JPG', 'DJI_0240.JPG', 'DJI_0010.JPG', 'DJI_0239.JPG', 'DJI_0063.JPG', 'DJI_0228.JPG') ('DJI_0221.png', 'DJI_0275.png', 'DJI_0240.png', 'DJI_0010.JPG', 'DJI_0239.png', 'DJI_0063.JPG', 'DJI_0228.png') amount: 7\n",
      "fold: ('DJI_0104.JPG', 'DJI_0276.JPG', 'DJI_0234.JPG', 'DJI_0347.JPG', 'DJI_0006.JPG', 'DJI_0229.JPG', 'DJI_0346.JPG') ('DJI_0104.JPG', 'DJI_0276.png', 'DJI_0234.png', 'DJI_0347.png', 'DJI_0006.JPG', 'DJI_0229.png', 'DJI_0346.png') amount: 7\n"
     ]
    }
   ],
   "source": [
    "\n",
    "# Create directories\n",
    "create_dir_if_not_exists(base_dir)\n",
    "\n",
    "prct = 1/k\n",
    "\n",
    "image_files = os.listdir(original_dataset_dir_images)\n",
    "mask_files = os.listdir(original_dataset_dir_masks)\n",
    "print(len(image_files))\n",
    "\n",
    "zip_files = list(zip(image_files, mask_files))\n",
    "random.shuffle(zip_files)\n",
    "\n",
    "image_files, mask_files = zip(*zip_files)\n",
    "\n",
    "for i in range(k):\n",
    "#     print(image_file, mask_file)\n",
    "    fold_dir = create_dir_if_not_exists(base_dir, '%i'%i)\n",
    "    fold_image_dir = create_dir_if_not_exists(fold_dir, \"image\")\n",
    "    fold_mask_dir = create_dir_if_not_exists(fold_dir, \"multi-label\")\n",
    "    \n",
    "    fold_images = image_files[i*int(prct*len(image_files)):(i+1)*int(prct*len(image_files))]\n",
    "    fold_masks = mask_files[i*int(prct*len(mask_files)):(i+1)*int(prct*len(mask_files))]\n",
    "    \n",
    "    #last fold must take all rest (could be a +/-3 files)\n",
    "    if i >= k-1:\n",
    "        fold_images = image_files[i*int(prct*len(image_files)):]\n",
    "        fold_masks = mask_files[i*int(prct*len(mask_files)):]\n",
    "\n",
    "    # copy data into fold_c_dir\n",
    "    for f in range(len(fold_images)):\n",
    "        image_file = fold_images[f]\n",
    "        mask_file = fold_masks[f]\n",
    "        \n",
    "        src_img = os.path.join(original_dataset_dir_images, image_file)\n",
    "        src_msk = os.path.join(original_dataset_dir_masks, mask_file)\n",
    "        \n",
    "        dst_img = os.path.join(fold_image_dir, image_file)\n",
    "        dst_msk = os.path.join(fold_mask_dir, mask_file)\n",
    "\n",
    "        shutil.copyfile(src_img, dst_img)\n",
    "        shutil.copyfile(src_msk, dst_msk)\n",
    "\n",
    "    print('fold:', fold_images, fold_masks, 'amount:', len(fold_images))\n",
    "\n"
   ]
  },
  {
   "cell_type": "code",
   "execution_count": null,
   "metadata": {},
   "outputs": [],
   "source": []
  },
  {
   "cell_type": "markdown",
   "metadata": {},
   "source": [
    "# combine folds in train and validation folders"
   ]
  },
  {
   "cell_type": "code",
   "execution_count": 11,
   "metadata": {},
   "outputs": [],
   "source": [
    "# adapted from: https://stackoverflow.com/questions/1868714/how-do-i-copy-an-entire-directory-of-files-into-an-existing-directory-using-pyth/22331852\n",
    "def copytree(src, dst, symlinks=False, ignore=None):\n",
    "    for item in os.listdir(src):\n",
    "        s = os.path.join(src, item)\n",
    "        d = os.path.join(dst, item)\n",
    "        if os.path.isdir(s):\n",
    "            shutil.copytree(s, d, symlinks, ignore)\n",
    "        else:\n",
    "            shutil.copy2(s, d)"
   ]
  },
  {
   "cell_type": "code",
   "execution_count": 23,
   "metadata": {},
   "outputs": [],
   "source": []
  },
  {
   "cell_type": "code",
   "execution_count": 24,
   "metadata": {},
   "outputs": [],
   "source": [
    "base_dir = '../../Data/Masked Images/k-folds'\n",
    "combined_dir = '../../Data/Masked Images/k-folds/combined folds'\n",
    "\n",
    "k = 5"
   ]
  },
  {
   "cell_type": "code",
   "execution_count": 27,
   "metadata": {},
   "outputs": [],
   "source": [
    "# Create directories\n",
    "create_dir_if_not_exists(combined_dir)\n",
    "\n",
    "for i in range(k):\n",
    "    fold_dir = create_dir_if_not_exists(combined_dir, '%i'%i)\n",
    "    val_dir = create_dir_if_not_exists(fold_dir, 'validate')\n",
    "    train_dir = create_dir_if_not_exists(fold_dir, 'train')\n",
    "    \n",
    "    val_image_dir = create_dir_if_not_exists(val_dir, 'image')\n",
    "    val_mask_dir = create_dir_if_not_exists(val_dir, 'multi-label')\n",
    "    train_image_dir = create_dir_if_not_exists(train_dir, 'image')\n",
    "    train_mask_dir = create_dir_if_not_exists(train_dir, 'multi-label')\n",
    "    \n",
    "    for j in range(k):\n",
    "        # one fold is used for validation; the others are used for training\n",
    "        if(i==j):\n",
    "            copytree('%s/%i/image'%(base_dir, j), val_image_dir)\n",
    "            copytree('%s/%i/multi-label'%(base_dir, j), val_mask_dir)\n",
    "        else:\n",
    "            copytree('%s/%i/image'%(base_dir, j), train_image_dir)\n",
    "            copytree('%s/%i/multi-label'%(base_dir, j), train_mask_dir)\n",
    "        "
   ]
  },
  {
   "cell_type": "code",
   "execution_count": null,
   "metadata": {},
   "outputs": [],
   "source": []
  },
  {
   "cell_type": "code",
   "execution_count": null,
   "metadata": {},
   "outputs": [],
   "source": []
  }
 ],
 "metadata": {
  "kernelspec": {
   "display_name": "Python 3",
   "language": "python",
   "name": "python3"
  },
  "language_info": {
   "codemirror_mode": {
    "name": "ipython",
    "version": 3
   },
   "file_extension": ".py",
   "mimetype": "text/x-python",
   "name": "python",
   "nbconvert_exporter": "python",
   "pygments_lexer": "ipython3",
   "version": "3.7.4"
  }
 },
 "nbformat": 4,
 "nbformat_minor": 2
}
