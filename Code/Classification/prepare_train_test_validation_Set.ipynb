{
 "cells": [
  {
   "cell_type": "code",
   "execution_count": 7,
   "metadata": {},
   "outputs": [],
   "source": [
    "import random\n",
    "import os, shutil\n",
    "\n",
    "original_dataset_dir = '../../Data/Borkenkaefer/images/'\n",
    "\n",
    "base_dir = '../../Data/Borkenkaefer/data2/'\n"
   ]
  },
  {
   "cell_type": "code",
   "execution_count": 8,
   "metadata": {},
   "outputs": [],
   "source": [
    "def create_dir_if_not_exists(directory, name=''):\n",
    "    merged_name = os.path.join(directory,name)\n",
    "    if not os.path.exists(merged_name):\n",
    "        os.mkdir(merged_name)\n",
    "    return merged_name"
   ]
  },
  {
   "cell_type": "code",
   "execution_count": 9,
   "metadata": {},
   "outputs": [],
   "source": [
    "# Create directories\n",
    "create_dir_if_not_exists(base_dir)\n",
    "train_dir = create_dir_if_not_exists(base_dir,'train')\n",
    "validation_dir = create_dir_if_not_exists(base_dir,'validation')\n",
    "test_dir = create_dir_if_not_exists(base_dir,'test')"
   ]
  },
  {
   "cell_type": "code",
   "execution_count": 10,
   "metadata": {},
   "outputs": [
    {
     "name": "stdout",
     "output_type": "stream",
     "text": [
      "total training mit images: 22\n",
      "total validation mit images: 11\n",
      "total test mit images: 11\n",
      "total training ohne images: 18\n",
      "total validation ohne images: 9\n",
      "total test ohne images: 9\n"
     ]
    }
   ],
   "source": [
    "#read all class directories\n",
    "classes = os.listdir(original_dataset_dir)\n",
    "\n",
    "train_pct = 0.5\n",
    "validation_pct = 0.25\n",
    "#test_pct = 1-train_pct-validation_pct\n",
    "\n",
    "for c in classes:\n",
    "    c_dir = os.path.join(original_dataset_dir,c)\n",
    "    \n",
    "    train_c_dir = create_dir_if_not_exists(train_dir, c)\n",
    "    validation_c_dir = create_dir_if_not_exists(validation_dir,c)\n",
    "    test_c_dir = create_dir_if_not_exists(test_dir,c)\n",
    "    \n",
    "    c_files = os.listdir(c_dir)\n",
    "    random.shuffle(c_files)\n",
    "    \n",
    "    train = c_files[:int(len(c_files)*train_pct)]\n",
    "    validation = c_files[int(len(c_files)*train_pct):int(len(c_files)*train_pct)+int(len(c_files)*validation_pct)]\n",
    "    test = c_files[int(len(c_files)*train_pct)+int(len(c_files)*validation_pct):]\n",
    "    \n",
    "    # copy 50% of the data into train_dir\n",
    "    for fname in train:\n",
    "        src = os.path.join(c_dir, fname)\n",
    "        dst = os.path.join(train_c_dir, fname)\n",
    "        shutil.copyfile(src, dst)\n",
    "\n",
    "    # copy 25% of the data into validation_dir\n",
    "    for fname in validation:\n",
    "        src = os.path.join(c_dir, fname)\n",
    "        dst = os.path.join(validation_c_dir, fname)\n",
    "        shutil.copyfile(src, dst)\n",
    "\n",
    "    # copy 25% of the data into test_dir\n",
    "    for fname in test:\n",
    "        src = os.path.join(c_dir, fname)\n",
    "        dst = os.path.join(test_c_dir, fname)\n",
    "        shutil.copyfile(src, dst)\n",
    "        \n",
    "    # Sanity checks\n",
    "    print('total training %s images:'%c, len(os.listdir(train_c_dir)))\n",
    "    print('total validation %s images:'%c, len(os.listdir(validation_c_dir)))\n",
    "    print('total test %s images:'%c, len(os.listdir(test_c_dir)))"
   ]
  },
  {
   "cell_type": "code",
   "execution_count": null,
   "metadata": {},
   "outputs": [],
   "source": []
  }
 ],
 "metadata": {
  "kernelspec": {
   "display_name": "Python 3",
   "language": "python",
   "name": "python3"
  },
  "language_info": {
   "codemirror_mode": {
    "name": "ipython",
    "version": 3
   },
   "file_extension": ".py",
   "mimetype": "text/x-python",
   "name": "python",
   "nbconvert_exporter": "python",
   "pygments_lexer": "ipython3",
   "version": "3.7.4"
  }
 },
 "nbformat": 4,
 "nbformat_minor": 2
}
